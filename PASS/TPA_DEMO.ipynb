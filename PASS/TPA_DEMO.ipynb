{
  "nbformat": 4,
  "nbformat_minor": 0,
  "metadata": {
    "colab": {
      "name": "CV.ipynb",
      "provenance": [],
      "collapsed_sections": []
    },
    "kernelspec": {
      "name": "python3",
      "display_name": "Python 3"
    },
    "accelerator": "GPU"
  },
  "cells": [
    {
      "cell_type": "code",
      "metadata": {
        "id": "t6Dc7fKeRvMU"
      },
      "source": [
        "from google.colab import drive\r\n",
        "drive.mount('/content/drive')\r\n"
      ],
      "execution_count": null,
      "outputs": []
    },
    {
      "cell_type": "code",
      "metadata": {
        "id": "Dz2_XAQIR2i_"
      },
      "source": [
        "#TRAIN\r\n",
        "%cd /content/drive/MyDrive/CV/PASS-master/train\r\n",
        "!python main.py --savedir ftl --datadir /content/drive/MyDrive/CV/PASS-master/data/ --iouTrain --num-epochs 20 --batch-size 6 --decoder --pretrainedEncoder \"../trained_models/erfnet_encoder_pretrained.pth.tar\" --model erfnet_apspnet "
      ],
      "execution_count": null,
      "outputs": []
    },
    {
      "cell_type": "code",
      "metadata": {
        "id": "i245v835Usu6",
        "colab": {
          "base_uri": "https://localhost:8080/"
        },
        "outputId": "e7b28afa-7945-46eb-ae24-2d5ba30d631e"
      },
      "source": [
        "!pip install visdom &> /dev/null\r\n",
        "#EVAL DEMO\r\n",
        "%cd /content/drive/MyDrive/CV/PASS-master/eval\r\n",
        "!python eval_color.py --datadir /content/drive/MyDrive/CV/PASS-master/dataset/ --subset val --loadDir /content/drive/MyDrive/CV/PASS-master/save/saved_weights/ --loadWeights lovasz.pth --loadModel erfnet_apspnet.py"
      ],
      "execution_count": null,
      "outputs": [
        {
          "output_type": "stream",
          "text": [
            "/content/drive/MyDrive/CV/PASS-master/eval\n",
            "Loading model: /content/drive/MyDrive/CV/PASS-master/save/models/erfnet_apspnet.py\n",
            "Loading weights: /content/drive/MyDrive/CV/PASS-master/save/models/lovasz.pth\n",
            "Model and weights LOADED successfully\n",
            "0 ./save_color/val/frankfurt_000000_011810_leftImg8bit_lovasz.png\n",
            "1 ./save_color/val/munster_000015_000019_leftImg8bit_lovasz.png\n",
            "2 ./save_color/val/munster_000046_000019_leftImg8bit_lovasz.png\n",
            "3 ./save_color/val/munster_000154_000019_leftImg8bit_lovasz.png\n",
            "4 ./save_color/val/munster_000166_000019_leftImg8bit_lovasz.png\n"
          ],
          "name": "stdout"
        }
      ]
    }
  ]
}